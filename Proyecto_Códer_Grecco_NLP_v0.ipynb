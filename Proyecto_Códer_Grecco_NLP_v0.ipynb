{
  "nbformat": 4,
  "nbformat_minor": 0,
  "metadata": {
    "colab": {
      "provenance": [],
      "include_colab_link": true
    },
    "kernelspec": {
      "name": "python3",
      "display_name": "Python 3"
    },
    "language_info": {
      "name": "python"
    }
  },
  "cells": [
    {
      "cell_type": "markdown",
      "metadata": {
        "id": "view-in-github",
        "colab_type": "text"
      },
      "source": [
        "<a href=\"https://colab.research.google.com/github/Augustogrecco/Cursocoderhouse/blob/main/Proyecto_C%C3%B3der_Grecco_NLP_v0.ipynb\" target=\"_parent\"><img src=\"https://colab.research.google.com/assets/colab-badge.svg\" alt=\"Open In Colab\"/></a>"
      ]
    },
    {
      "cell_type": "markdown",
      "source": [
        "# **Presentación del proyecto**\n",
        "\n",
        "\"\"\"\n",
        "Este proyecto busca aplicar técnicas de Procesamiento de Lenguaje Natural (NLP)\n",
        "para analizar los comentarios de auditoría de clientes que utilizan una plataforma\n",
        "de gestión de riesgos, controles y auditoría. Mediante este análisis, se pretende\n",
        "detectar patrones y emociones subyacentes en los comentarios, aportando insights\n",
        "relevantes para la toma de decisiones y mejorando la eficiencia en la gestión de riesgos.\n",
        "\n",
        "La fase actual se enfoca en el análisis exploratorio de datos (EDA), aplicando técnicas\n",
        "como lematización y eliminación de stopwords. En futuras etapas, se explorarán modelos\n",
        "predictivos para comparar enfoques y validar los hallazgos críticos que se identifiquen\n",
        "durante el proceso.\n",
        "\"\"\""
      ],
      "metadata": {
        "id": "xzB4gwuwanKZ"
      }
    },
    {
      "cell_type": "markdown",
      "source": [],
      "metadata": {
        "id": "V2OZpQmaqN8E"
      }
    },
    {
      "cell_type": "markdown",
      "source": [
        "**Abstracto con Motivación y Audiencia**"
      ],
      "metadata": {
        "id": "-LhnW5JudMDZ"
      }
    },
    {
      "cell_type": "markdown",
      "source": [
        "\n",
        "\"\"\"\n",
        "Motivación:\n",
        "Mi experiencia como contador público en auditoría, gestión de riesgos y proyectos,\n",
        "e implementación de modelos de GRC en toda Latinoamérica, ha revelado la necesidad\n",
        "de optimizar la gestión de los comentarios volcados en auditorías. Dado que el análisis\n",
        "manual se vuelve ineficiente con volúmenes crecientes de datos, el uso de NLP permitirá\n",
        "automatizar la identificación de situaciones relevantes.\n",
        "\n",
        "Audiencia:\n",
        "El proyecto está dirigido tanto a auditores como a gerentes de riesgos y compliance que\n",
        "desean utilizar la automatización para mejorar sus procesos. También busca presentar\n",
        "resultados claros y visualmente atractivos para directivos que requieren insights sin\n",
        "tecnicismos excesivos.\n",
        "\"\"\""
      ],
      "metadata": {
        "id": "qOEULCcEoxc2"
      }
    },
    {
      "cell_type": "markdown",
      "source": [
        "**Contexto Comercial y Analítico**\n",
        "\n",
        "\"\"\"\n",
        "Este análisis se llevará a cabo utilizando datos estructurados proporcionados por\n",
        "una plataforma de gestión de riesgos y auditoría. Los hallazgos de esta investigación\n",
        "ayudarán a las organizaciones a detectar situaciones críticas de manera anticipada y\n",
        "mejorar la toma de decisiones en la cadena de gestión de riesgos.\n",
        "\n",
        "Desde una perspectiva analítica, la eliminación de stopwords permitirá identificar\n",
        "patrones más precisos en las nubes de palabras. La lematización facilitará la obtención\n",
        "de insights claros, mientras que el stemming será descartado en esta etapa debido a que\n",
        "no se trabaja con un volumen masivo de datos (300 hallazgos). Nos enfocaremos en atributos\n",
        "como el nombre, la descripción y las recomendaciones de cada hallazgo.\n",
        "\"\"\""
      ],
      "metadata": {
        "id": "9mUn43cZdP_t"
      }
    },
    {
      "cell_type": "markdown",
      "source": [
        "**Preguntas/Hipótesis a Resolver**\n",
        "\n",
        "\"\"\"\n",
        "1. ¿Puede el análisis de sentimientos ayudar a identificar riesgos emergentes o\n",
        "   situaciones críticas dentro de los comentarios de auditoría?\n",
        "2. ¿Es posible mejorar la eficiencia del proceso de auditoría al comparar diferentes\n",
        "   modelos predictivos para detectar hallazgos críticos?\n",
        "3. ¿Qué mejoras cuantificables en eficiencia se pueden obtener en comparación con\n",
        "   enfoques tradicionales de análisis manual?\n",
        "4. ¿Cómo influye la subjetividad en los comentarios realizados por diferentes auditores\n",
        "   y qué técnicas son más efectivas para hacerlos comparables?\n",
        "\"\"\""
      ],
      "metadata": {
        "id": "3KBMDl_bdkqX"
      }
    },
    {
      "cell_type": "markdown",
      "source": [
        "**Objetivo**\n",
        "\n",
        "\"\"\"\n",
        "El objetivo principal del proyecto es implementar técnicas de NLP para automatizar el\n",
        "análisis de los comentarios de auditoría y detectar situaciones críticas de manera anticipada.\n",
        "Se busca comparar distintos enfoques predictivos para validar cuáles ofrecen los mejores\n",
        "resultados en términos de precisión y eficiencia. Además, el proyecto pretende generar\n",
        "visualizaciones claras y atractivas que ayuden a comunicar los hallazgos tanto a expertos\n",
        "como a audiencias no técnicas, aportando valor tangible a la gestión de riesgos y auditoría.\n",
        "\"\"\""
      ],
      "metadata": {
        "id": "06Xa-Tilds7o"
      }
    },
    {
      "cell_type": "markdown",
      "source": [
        "# **Lectura de datos**"
      ],
      "metadata": {
        "id": "8wLoKhWWaqNa"
      }
    },
    {
      "cell_type": "markdown",
      "source": [
        "**Librerias necesarias**"
      ],
      "metadata": {
        "id": "0Pe1ER-7cSiB"
      }
    },
    {
      "cell_type": "code",
      "source": [
        "# ======== CONFIGURACIÓN INICIAL ========\n",
        "\n",
        "# Importar librerías necesarias\n",
        "import pandas as pd\n",
        "import seaborn as sns\n",
        "import numpy as np\n",
        "from transformers import pipeline  # Modelo BERT\n",
        "import matplotlib.pyplot as plt\n",
        "from wordcloud import WordCloud\n",
        "from collections import Counter\n",
        "import re\n",
        "from nltk.corpus import stopwords  # Stopwords en español\n",
        "from nltk.tokenize import word_tokenize  # Tokenización\n",
        "import nltk\n",
        "import spacy  # Lematización y análisis POS\n",
        "\n",
        "# Descargar recursos necesarios\n",
        "nltk.download('stopwords')\n",
        "nltk.download('punkt')\n",
        "!python -m spacy download es_core_news_md\n",
        "nlp = spacy.load('es_core_news_md')\n",
        "\n",
        "# Estilo de gráficos\n",
        "plt.style.use('ggplot')\n"
      ],
      "metadata": {
        "id": "FshYZ8_0cR0U",
        "colab": {
          "base_uri": "https://localhost:8080/",
          "height": 0
        },
        "outputId": "e4bb937a-700c-464b-b9be-89dcf5828fee"
      },
      "execution_count": 4,
      "outputs": [
        {
          "output_type": "stream",
          "name": "stderr",
          "text": [
            "[nltk_data] Downloading package stopwords to /root/nltk_data...\n",
            "[nltk_data]   Package stopwords is already up-to-date!\n",
            "[nltk_data] Downloading package punkt to /root/nltk_data...\n",
            "[nltk_data]   Package punkt is already up-to-date!\n"
          ]
        },
        {
          "output_type": "stream",
          "name": "stdout",
          "text": [
            "Collecting es-core-news-md==3.7.0\n",
            "  Downloading https://github.com/explosion/spacy-models/releases/download/es_core_news_md-3.7.0/es_core_news_md-3.7.0-py3-none-any.whl (42.3 MB)\n",
            "\u001b[2K     \u001b[90m━━━━━━━━━━━━━━━━━━━━━━━━━━━━━━━━━━━━━━━━\u001b[0m \u001b[32m42.3/42.3 MB\u001b[0m \u001b[31m11.1 MB/s\u001b[0m eta \u001b[36m0:00:00\u001b[0m\n",
            "\u001b[?25hRequirement already satisfied: spacy<3.8.0,>=3.7.0 in /usr/local/lib/python3.10/dist-packages (from es-core-news-md==3.7.0) (3.7.5)\n",
            "Requirement already satisfied: spacy-legacy<3.1.0,>=3.0.11 in /usr/local/lib/python3.10/dist-packages (from spacy<3.8.0,>=3.7.0->es-core-news-md==3.7.0) (3.0.12)\n",
            "Requirement already satisfied: spacy-loggers<2.0.0,>=1.0.0 in /usr/local/lib/python3.10/dist-packages (from spacy<3.8.0,>=3.7.0->es-core-news-md==3.7.0) (1.0.5)\n",
            "Requirement already satisfied: murmurhash<1.1.0,>=0.28.0 in /usr/local/lib/python3.10/dist-packages (from spacy<3.8.0,>=3.7.0->es-core-news-md==3.7.0) (1.0.10)\n",
            "Requirement already satisfied: cymem<2.1.0,>=2.0.2 in /usr/local/lib/python3.10/dist-packages (from spacy<3.8.0,>=3.7.0->es-core-news-md==3.7.0) (2.0.8)\n",
            "Requirement already satisfied: preshed<3.1.0,>=3.0.2 in /usr/local/lib/python3.10/dist-packages (from spacy<3.8.0,>=3.7.0->es-core-news-md==3.7.0) (3.0.9)\n",
            "Requirement already satisfied: thinc<8.3.0,>=8.2.2 in /usr/local/lib/python3.10/dist-packages (from spacy<3.8.0,>=3.7.0->es-core-news-md==3.7.0) (8.2.5)\n",
            "Requirement already satisfied: wasabi<1.2.0,>=0.9.1 in /usr/local/lib/python3.10/dist-packages (from spacy<3.8.0,>=3.7.0->es-core-news-md==3.7.0) (1.1.3)\n",
            "Requirement already satisfied: srsly<3.0.0,>=2.4.3 in /usr/local/lib/python3.10/dist-packages (from spacy<3.8.0,>=3.7.0->es-core-news-md==3.7.0) (2.4.8)\n",
            "Requirement already satisfied: catalogue<2.1.0,>=2.0.6 in /usr/local/lib/python3.10/dist-packages (from spacy<3.8.0,>=3.7.0->es-core-news-md==3.7.0) (2.0.10)\n",
            "Requirement already satisfied: weasel<0.5.0,>=0.1.0 in /usr/local/lib/python3.10/dist-packages (from spacy<3.8.0,>=3.7.0->es-core-news-md==3.7.0) (0.4.1)\n",
            "Requirement already satisfied: typer<1.0.0,>=0.3.0 in /usr/local/lib/python3.10/dist-packages (from spacy<3.8.0,>=3.7.0->es-core-news-md==3.7.0) (0.12.5)\n",
            "Requirement already satisfied: tqdm<5.0.0,>=4.38.0 in /usr/local/lib/python3.10/dist-packages (from spacy<3.8.0,>=3.7.0->es-core-news-md==3.7.0) (4.66.5)\n",
            "Requirement already satisfied: requests<3.0.0,>=2.13.0 in /usr/local/lib/python3.10/dist-packages (from spacy<3.8.0,>=3.7.0->es-core-news-md==3.7.0) (2.32.3)\n",
            "Requirement already satisfied: pydantic!=1.8,!=1.8.1,<3.0.0,>=1.7.4 in /usr/local/lib/python3.10/dist-packages (from spacy<3.8.0,>=3.7.0->es-core-news-md==3.7.0) (2.9.2)\n",
            "Requirement already satisfied: jinja2 in /usr/local/lib/python3.10/dist-packages (from spacy<3.8.0,>=3.7.0->es-core-news-md==3.7.0) (3.1.4)\n",
            "Requirement already satisfied: setuptools in /usr/local/lib/python3.10/dist-packages (from spacy<3.8.0,>=3.7.0->es-core-news-md==3.7.0) (75.1.0)\n",
            "Requirement already satisfied: packaging>=20.0 in /usr/local/lib/python3.10/dist-packages (from spacy<3.8.0,>=3.7.0->es-core-news-md==3.7.0) (24.1)\n",
            "Requirement already satisfied: langcodes<4.0.0,>=3.2.0 in /usr/local/lib/python3.10/dist-packages (from spacy<3.8.0,>=3.7.0->es-core-news-md==3.7.0) (3.4.1)\n",
            "Requirement already satisfied: numpy>=1.19.0 in /usr/local/lib/python3.10/dist-packages (from spacy<3.8.0,>=3.7.0->es-core-news-md==3.7.0) (1.26.4)\n",
            "Requirement already satisfied: language-data>=1.2 in /usr/local/lib/python3.10/dist-packages (from langcodes<4.0.0,>=3.2.0->spacy<3.8.0,>=3.7.0->es-core-news-md==3.7.0) (1.2.0)\n",
            "Requirement already satisfied: annotated-types>=0.6.0 in /usr/local/lib/python3.10/dist-packages (from pydantic!=1.8,!=1.8.1,<3.0.0,>=1.7.4->spacy<3.8.0,>=3.7.0->es-core-news-md==3.7.0) (0.7.0)\n",
            "Requirement already satisfied: pydantic-core==2.23.4 in /usr/local/lib/python3.10/dist-packages (from pydantic!=1.8,!=1.8.1,<3.0.0,>=1.7.4->spacy<3.8.0,>=3.7.0->es-core-news-md==3.7.0) (2.23.4)\n",
            "Requirement already satisfied: typing-extensions>=4.6.1 in /usr/local/lib/python3.10/dist-packages (from pydantic!=1.8,!=1.8.1,<3.0.0,>=1.7.4->spacy<3.8.0,>=3.7.0->es-core-news-md==3.7.0) (4.12.2)\n",
            "Requirement already satisfied: charset-normalizer<4,>=2 in /usr/local/lib/python3.10/dist-packages (from requests<3.0.0,>=2.13.0->spacy<3.8.0,>=3.7.0->es-core-news-md==3.7.0) (3.4.0)\n",
            "Requirement already satisfied: idna<4,>=2.5 in /usr/local/lib/python3.10/dist-packages (from requests<3.0.0,>=2.13.0->spacy<3.8.0,>=3.7.0->es-core-news-md==3.7.0) (3.10)\n",
            "Requirement already satisfied: urllib3<3,>=1.21.1 in /usr/local/lib/python3.10/dist-packages (from requests<3.0.0,>=2.13.0->spacy<3.8.0,>=3.7.0->es-core-news-md==3.7.0) (2.2.3)\n",
            "Requirement already satisfied: certifi>=2017.4.17 in /usr/local/lib/python3.10/dist-packages (from requests<3.0.0,>=2.13.0->spacy<3.8.0,>=3.7.0->es-core-news-md==3.7.0) (2024.8.30)\n",
            "Requirement already satisfied: blis<0.8.0,>=0.7.8 in /usr/local/lib/python3.10/dist-packages (from thinc<8.3.0,>=8.2.2->spacy<3.8.0,>=3.7.0->es-core-news-md==3.7.0) (0.7.11)\n",
            "Requirement already satisfied: confection<1.0.0,>=0.0.1 in /usr/local/lib/python3.10/dist-packages (from thinc<8.3.0,>=8.2.2->spacy<3.8.0,>=3.7.0->es-core-news-md==3.7.0) (0.1.5)\n",
            "Requirement already satisfied: click>=8.0.0 in /usr/local/lib/python3.10/dist-packages (from typer<1.0.0,>=0.3.0->spacy<3.8.0,>=3.7.0->es-core-news-md==3.7.0) (8.1.7)\n",
            "Requirement already satisfied: shellingham>=1.3.0 in /usr/local/lib/python3.10/dist-packages (from typer<1.0.0,>=0.3.0->spacy<3.8.0,>=3.7.0->es-core-news-md==3.7.0) (1.5.4)\n",
            "Requirement already satisfied: rich>=10.11.0 in /usr/local/lib/python3.10/dist-packages (from typer<1.0.0,>=0.3.0->spacy<3.8.0,>=3.7.0->es-core-news-md==3.7.0) (13.9.2)\n",
            "Requirement already satisfied: cloudpathlib<1.0.0,>=0.7.0 in /usr/local/lib/python3.10/dist-packages (from weasel<0.5.0,>=0.1.0->spacy<3.8.0,>=3.7.0->es-core-news-md==3.7.0) (0.20.0)\n",
            "Requirement already satisfied: smart-open<8.0.0,>=5.2.1 in /usr/local/lib/python3.10/dist-packages (from weasel<0.5.0,>=0.1.0->spacy<3.8.0,>=3.7.0->es-core-news-md==3.7.0) (7.0.5)\n",
            "Requirement already satisfied: MarkupSafe>=2.0 in /usr/local/lib/python3.10/dist-packages (from jinja2->spacy<3.8.0,>=3.7.0->es-core-news-md==3.7.0) (3.0.2)\n",
            "Requirement already satisfied: marisa-trie>=0.7.7 in /usr/local/lib/python3.10/dist-packages (from language-data>=1.2->langcodes<4.0.0,>=3.2.0->spacy<3.8.0,>=3.7.0->es-core-news-md==3.7.0) (1.2.1)\n",
            "Requirement already satisfied: markdown-it-py>=2.2.0 in /usr/local/lib/python3.10/dist-packages (from rich>=10.11.0->typer<1.0.0,>=0.3.0->spacy<3.8.0,>=3.7.0->es-core-news-md==3.7.0) (3.0.0)\n",
            "Requirement already satisfied: pygments<3.0.0,>=2.13.0 in /usr/local/lib/python3.10/dist-packages (from rich>=10.11.0->typer<1.0.0,>=0.3.0->spacy<3.8.0,>=3.7.0->es-core-news-md==3.7.0) (2.18.0)\n",
            "Requirement already satisfied: wrapt in /usr/local/lib/python3.10/dist-packages (from smart-open<8.0.0,>=5.2.1->weasel<0.5.0,>=0.1.0->spacy<3.8.0,>=3.7.0->es-core-news-md==3.7.0) (1.16.0)\n",
            "Requirement already satisfied: mdurl~=0.1 in /usr/local/lib/python3.10/dist-packages (from markdown-it-py>=2.2.0->rich>=10.11.0->typer<1.0.0,>=0.3.0->spacy<3.8.0,>=3.7.0->es-core-news-md==3.7.0) (0.1.2)\n",
            "\u001b[38;5;2m✔ Download and installation successful\u001b[0m\n",
            "You can now load the package via spacy.load('es_core_news_md')\n",
            "\u001b[38;5;3m⚠ Restart to reload dependencies\u001b[0m\n",
            "If you are in a Jupyter or Colab notebook, you may need to restart Python in\n",
            "order to load all the package's dependencies. You can do this by selecting the\n",
            "'Restart kernel' or 'Restart runtime' option.\n"
          ]
        }
      ]
    },
    {
      "cell_type": "markdown",
      "source": [
        "**Configuración del entorno de Python en Google Colab**"
      ],
      "metadata": {
        "id": "iS25rDiNcWoo"
      }
    },
    {
      "cell_type": "markdown",
      "source": [
        "**Lectura del corpus**"
      ],
      "metadata": {
        "id": "M58MXujYccl4"
      }
    },
    {
      "cell_type": "code",
      "source": [
        "# Cargar la base de datos\n",
        "url = 'https://docs.google.com/spreadsheets/d/1QYTwILPEhXRJt2P51_Pec7AKBUGruE-y/export?format=csv'\n",
        "datos = pd.read_csv(url)\n"
      ],
      "metadata": {
        "id": "lTis7QCwceYm"
      },
      "execution_count": 8,
      "outputs": []
    },
    {
      "cell_type": "markdown",
      "source": [
        "**Análisis inicial**"
      ],
      "metadata": {
        "id": "iKtGzziecpLH"
      }
    },
    {
      "cell_type": "code",
      "source": [
        "# ======== ANÁLISIS INICIAL DEL DATASET ========\n",
        "\n",
        "# 1. Revisión de dimensiones del dataset\n",
        "print(f\"El dataset tiene {datos.shape[0]} filas y {datos.shape[1]} columnas.\")\n",
        "\n",
        "# 2. Resumen de los datos: Valores no nulos por columna\n",
        "print(\"\\nValores no nulos por columna:\")\n",
        "print(datos.info())\n",
        "\n",
        "# 3. Conteo de valores nulos en cada columna\n",
        "print(\"\\nConteo de valores nulos por columna:\")\n",
        "print(datos.isnull().sum())\n",
        "\n",
        "# 4. Distribución de la cantidad de datos por columna\n",
        "print(\"\\nDistribución de los valores por columna:\")\n",
        "print(datos.describe(include='all'))\n",
        "\n",
        "# 5. Revisión de la longitud de los textos en la columna 'Hallazgo'\n",
        "datos['Longitud_Texto'] = datos['Hallazgo'].apply(len)\n",
        "plt.figure(figsize=(8, 6))\n",
        "sns.histplot(datos['Longitud_Texto'], bins=30, kde=True)\n",
        "plt.title(\"Distribución de la Longitud de los Hallazgos\")\n",
        "plt.show()\n",
        "\n",
        "# 6. Detección de caracteres especiales en los textos\n",
        "def detectar_caracteres_especiales(texto):\n",
        "    especiales = re.findall(r'[^a-zA-Z0-9áéíóúñü\\s]', texto)\n",
        "    return len(especiales)\n",
        "\n",
        "datos['Caracteres_Especiales'] = datos['Hallazgo'].apply(detectar_caracteres_especiales)\n",
        "print(\"\\nDistribución de la cantidad de caracteres especiales:\")\n",
        "print(datos['Caracteres_Especiales'].describe())\n",
        "\n",
        "# 7. Conteo de palabras por hallazgo\n",
        "datos['Cantidad_Palabras'] = datos['Hallazgo'].apply(lambda x: len(x.split()))\n",
        "print(\"\\nDistribución de la cantidad de palabras por hallazgo:\")\n",
        "print(datos['Cantidad_Palabras'].describe())\n",
        "\n",
        "plt.figure(figsize=(8, 6))\n",
        "sns.histplot(datos['Cantidad_Palabras'], bins=20, kde=True)\n",
        "plt.title(\"Distribución de la Cantidad de Palabras por Hallazgo\")\n",
        "plt.show()\n"
      ],
      "metadata": {
        "id": "hh1xD8TFc1EJ",
        "colab": {
          "base_uri": "https://localhost:8080/",
          "height": 5095
        },
        "outputId": "5b96f66a-ef10-47a7-b2ed-d627e3e1f534"
      },
      "execution_count": 10,
      "outputs": [
        {
          "output_type": "stream",
          "name": "stdout",
          "text": [
            "El dataset tiene 300 filas y 26 columnas.\n",
            "\n",
            "Valores no nulos por columna:\n",
            "<class 'pandas.core.frame.DataFrame'>\n",
            "RangeIndex: 300 entries, 0 to 299\n",
            "Data columns (total 26 columns):\n",
            " #   Column                         Non-Null Count  Dtype  \n",
            "---  ------                         --------------  -----  \n",
            " 0   Organización                   300 non-null    object \n",
            " 1   Tipo de Hallazgo               300 non-null    object \n",
            " 2   ID del Hallazgo                300 non-null    int64  \n",
            " 3   Hallazgo                       300 non-null    object \n",
            " 4   Fecha creación Hallazgo        300 non-null    object \n",
            " 5   Riesgos                        0 non-null      float64\n",
            " 6   Criticidad                     282 non-null    object \n",
            " 7   Responsable Hallazgo           261 non-null    object \n",
            " 8   ID Plan de Acción              300 non-null    int64  \n",
            " 9   Plan de acción                 300 non-null    object \n",
            " 10  Fecha final plan               300 non-null    object \n",
            " 11  ¿Requiere inversión?           69 non-null     object \n",
            " 12  Responsable                    300 non-null    object \n",
            " 13  Responsable seguimiento        0 non-null      float64\n",
            " 14  Ejecutor                       271 non-null    object \n",
            " 15  Estado                         300 non-null    object \n",
            " 16  Fecha Origen Plan de Acción    300 non-null    object \n",
            " 17  Fecha Anterior Plan de Acción  300 non-null    object \n",
            " 18  Fecha de Modificación          300 non-null    object \n",
            " 19  Fecha última alerta enviada    300 non-null    object \n",
            " 20  Cantidad Recalendarizaciones   300 non-null    int64  \n",
            " 21  Porcentaje avance              300 non-null    object \n",
            " 22  Comentarios de avance          188 non-null    object \n",
            " 23  Fecha avance                   300 non-null    object \n",
            " 24  Modificado Por                 300 non-null    object \n",
            " 25  Última nota                    44 non-null     object \n",
            "dtypes: float64(2), int64(3), object(21)\n",
            "memory usage: 61.1+ KB\n",
            "None\n",
            "\n",
            "Conteo de valores nulos por columna:\n",
            "Organización                       0\n",
            "Tipo de Hallazgo                   0\n",
            "ID del Hallazgo                    0\n",
            "Hallazgo                           0\n",
            "Fecha creación Hallazgo            0\n",
            "Riesgos                          300\n",
            "Criticidad                        18\n",
            "Responsable Hallazgo              39\n",
            "ID Plan de Acción                  0\n",
            "Plan de acción                     0\n",
            "Fecha final plan                   0\n",
            "¿Requiere inversión?             231\n",
            "Responsable                        0\n",
            "Responsable seguimiento          300\n",
            "Ejecutor                          29\n",
            "Estado                             0\n",
            "Fecha Origen Plan de Acción        0\n",
            "Fecha Anterior Plan de Acción      0\n",
            "Fecha de Modificación              0\n",
            "Fecha última alerta enviada        0\n",
            "Cantidad Recalendarizaciones       0\n",
            "Porcentaje avance                  0\n",
            "Comentarios de avance            112\n",
            "Fecha avance                       0\n",
            "Modificado Por                     0\n",
            "Última nota                      256\n",
            "dtype: int64\n",
            "\n",
            "Distribución de los valores por columna:\n",
            "       Organización Tipo de Hallazgo  ID del Hallazgo  \\\n",
            "count           300              300       300.000000   \n",
            "unique            5                1              NaN   \n",
            "top      EFE Matriz       Auditorías              NaN   \n",
            "freq            122              300              NaN   \n",
            "mean            NaN              NaN       213.076667   \n",
            "std             NaN              NaN        65.976261   \n",
            "min             NaN              NaN        90.000000   \n",
            "25%             NaN              NaN       163.750000   \n",
            "50%             NaN              NaN       202.500000   \n",
            "75%             NaN              NaN       273.250000   \n",
            "max             NaN              NaN       329.000000   \n",
            "\n",
            "                                                 Hallazgo  \\\n",
            "count                                                 300   \n",
            "unique                                                169   \n",
            "top     Necesidad de realizar inventarios periódicos p...   \n",
            "freq                                                   37   \n",
            "mean                                                  NaN   \n",
            "std                                                   NaN   \n",
            "min                                                   NaN   \n",
            "25%                                                   NaN   \n",
            "50%                                                   NaN   \n",
            "75%                                                   NaN   \n",
            "max                                                   NaN   \n",
            "\n",
            "       Fecha creación Hallazgo  Riesgos Criticidad  \\\n",
            "count                      300      0.0        282   \n",
            "unique                      21      NaN          3   \n",
            "top                 25-03-2024      NaN   Moderado   \n",
            "freq                       117      NaN        136   \n",
            "mean                       NaN      NaN        NaN   \n",
            "std                        NaN      NaN        NaN   \n",
            "min                        NaN      NaN        NaN   \n",
            "25%                        NaN      NaN        NaN   \n",
            "50%                        NaN      NaN        NaN   \n",
            "75%                        NaN      NaN        NaN   \n",
            "max                        NaN      NaN        NaN   \n",
            "\n",
            "                         Responsable Hallazgo  ID Plan de Acción  \\\n",
            "count                                     261          300.00000   \n",
            "unique                                     28                NaN   \n",
            "top     Miguel Urzua Britomiguel.urzua@efe.cl                NaN   \n",
            "freq                                       66                NaN   \n",
            "mean                                      NaN          275.80000   \n",
            "std                                       NaN           89.49311   \n",
            "min                                       NaN          114.00000   \n",
            "25%                                       NaN          199.75000   \n",
            "50%                                       NaN          276.50000   \n",
            "75%                                       NaN          353.25000   \n",
            "max                                       NaN          428.00000   \n",
            "\n",
            "                                           Plan de acción  ...  \\\n",
            "count                                                 300  ...   \n",
            "unique                                                245  ...   \n",
            "top     Se ha otorgado plazo hasta el 31 de marzo de 2...  ...   \n",
            "freq                                                    8  ...   \n",
            "mean                                                  NaN  ...   \n",
            "std                                                   NaN  ...   \n",
            "min                                                   NaN  ...   \n",
            "25%                                                   NaN  ...   \n",
            "50%                                                   NaN  ...   \n",
            "75%                                                   NaN  ...   \n",
            "max                                                   NaN  ...   \n",
            "\n",
            "       Fecha Origen Plan de Acción Fecha Anterior Plan de Acción  \\\n",
            "count                          300                           300   \n",
            "unique                          26                            15   \n",
            "top                     25-03-2024                    31-03-2024   \n",
            "freq                            80                            69   \n",
            "mean                           NaN                           NaN   \n",
            "std                            NaN                           NaN   \n",
            "min                            NaN                           NaN   \n",
            "25%                            NaN                           NaN   \n",
            "50%                            NaN                           NaN   \n",
            "75%                            NaN                           NaN   \n",
            "max                            NaN                           NaN   \n",
            "\n",
            "       Fecha de Modificación  Fecha última alerta enviada  \\\n",
            "count                    300                          300   \n",
            "unique                    58                           12   \n",
            "top               25-03-2024                   24-09-2024   \n",
            "freq                      36                          209   \n",
            "mean                     NaN                          NaN   \n",
            "std                      NaN                          NaN   \n",
            "min                      NaN                          NaN   \n",
            "25%                      NaN                          NaN   \n",
            "50%                      NaN                          NaN   \n",
            "75%                      NaN                          NaN   \n",
            "max                      NaN                          NaN   \n",
            "\n",
            "       Cantidad Recalendarizaciones  Porcentaje avance  \\\n",
            "count                    300.000000                300   \n",
            "unique                          NaN                 10   \n",
            "top                             NaN  No se ha agregado   \n",
            "freq                            NaN                118   \n",
            "mean                       0.500000                NaN   \n",
            "std                        0.686711                NaN   \n",
            "min                        0.000000                NaN   \n",
            "25%                        0.000000                NaN   \n",
            "50%                        0.000000                NaN   \n",
            "75%                        1.000000                NaN   \n",
            "max                        2.000000                NaN   \n",
            "\n",
            "                                    Comentarios de avance Fecha avance  \\\n",
            "count                                                 188          300   \n",
            "unique                                                145           63   \n",
            "top     Se estará licitando un servicio de consultoría...   25-03-2024   \n",
            "freq                                                    7           27   \n",
            "mean                                                  NaN          NaN   \n",
            "std                                                   NaN          NaN   \n",
            "min                                                   NaN          NaN   \n",
            "25%                                                   NaN          NaN   \n",
            "50%                                                   NaN          NaN   \n",
            "75%                                                   NaN          NaN   \n",
            "max                                                   NaN          NaN   \n",
            "\n",
            "                 Modificado Por  \\\n",
            "count                       300   \n",
            "unique                        6   \n",
            "top     Paz Millaray Tobar Mira   \n",
            "freq                        189   \n",
            "mean                        NaN   \n",
            "std                         NaN   \n",
            "min                         NaN   \n",
            "25%                         NaN   \n",
            "50%                         NaN   \n",
            "75%                         NaN   \n",
            "max                         NaN   \n",
            "\n",
            "                                              Última nota  \n",
            "count                                                  44  \n",
            "unique                                                 34  \n",
            "top     Aplica el mismo plan que la observación 148. N...  \n",
            "freq                                                    6  \n",
            "mean                                                  NaN  \n",
            "std                                                   NaN  \n",
            "min                                                   NaN  \n",
            "25%                                                   NaN  \n",
            "50%                                                   NaN  \n",
            "75%                                                   NaN  \n",
            "max                                                   NaN  \n",
            "\n",
            "[11 rows x 26 columns]\n"
          ]
        },
        {
          "output_type": "display_data",
          "data": {
            "text/plain": [
              "<Figure size 800x600 with 1 Axes>"
            ],
            "image/png": "[encoded data removed]"
          },
          "metadata": {}
        },
        {
          "output_type": "stream",
          "name": "stdout",
          "text": [
            "\n",
            "Distribución de la cantidad de caracteres especiales:\n",
            "count    300.000000\n",
            "mean       2.860000\n",
            "std        2.346363\n",
            "min        0.000000\n",
            "25%        2.000000\n",
            "50%        2.000000\n",
            "75%        4.000000\n",
            "max       18.000000\n",
            "Name: Caracteres_Especiales, dtype: float64\n",
            "\n",
            "Distribución de la cantidad de palabras por hallazgo:\n",
            "count    300.000000\n",
            "mean      36.020000\n",
            "std       14.539288\n",
            "min        3.000000\n",
            "25%       26.000000\n",
            "50%       34.000000\n",
            "75%       44.000000\n",
            "max       86.000000\n",
            "Name: Cantidad_Palabras, dtype: float64\n"
          ]
        },
        {
          "output_type": "display_data",
          "data": {
            "text/plain": [
              "<Figure size 800x600 with 1 Axes>"
            ],
            "image/png": "[encoded data removed]"
          },
          "metadata": {}
        }
      ]
    },
    {
      "cell_type": "markdown",
      "source": [
        "**Conclusiones Preliminares del Proyecto**\n",
        "\n",
        "Selección de Variables Relevantes:\n",
        "\n",
        "Se decidió trabajar únicamente con las columnas **HALLAZGO, PLAN DE ACCIÓN, RECOMENDACIONES Y ÚLTIMA NOTA** ya que contienen el texto relevante para el análisis.\n",
        "Otras columnas no aportan valor significativo para el análisis de lenguaje, por lo que se omitirán para optimizar el procesamiento.\n",
        "\n",
        "Calidad del Dataset:\n",
        "\n",
        "El dataset tiene 300 registros, con textos de longitud promedio de 36 palabras por hallazgo. Esta longitud es adecuada para un análisis NLP detallado.\n",
        "Se detectaron valores nulos en algunas columnas irrelevantes para este proyecto, por lo que no afectan nuestro análisis.\n",
        "\n",
        "Presencia de Ruido en el Texto:\n",
        "\n",
        "Algunos textos contienen caracteres especiales que deberán eliminarse durante la limpieza del texto.\n",
        "La eliminación de estos caracteres ayudará a mejorar la calidad de los modelos y a evitar ruido en las visualizaciones.\n",
        "\n",
        "Lematización como Técnica Principal:\n",
        "\n",
        "Se decidió utilizar lematización en lugar de stemming, ya que proporciona una mayor precisión semántica sin alterar la estructura de las palabras.\n",
        "\n",
        "Distribución de la Longitud de los Textos:\n",
        "\n",
        "La mayoría de los hallazgos tienen una longitud homogénea entre 26 y 44 palabras, lo que indica una estructura consistente.\n",
        "\n",
        "Textos extremadamente cortos o largos serán identificados y revisados para asegurar que no afecten el análisis final.\n",
        "\n"
      ],
      "metadata": {
        "id": "jGsT8H0WEQ8K"
      }
    },
    {
      "cell_type": "markdown",
      "source": [],
      "metadata": {
        "id": "f-DrpOd_vh8u"
      }
    },
    {
      "cell_type": "code",
      "source": [
        "# ======== FILTRAR LAS COLUMNAS RELEVANTES ========\n",
        "\n",
        "# Filtramos solo las columnas seleccionadas para el análisis\n",
        "datos_relevantes = datos[['Hallazgo', 'Plan de acción', 'Comentarios de avance', 'Última nota']].copy()\n",
        "\n",
        "# Combinamos los valores en una nueva columna para análisis de texto\n",
        "datos_relevantes['Texto_Concatenado'] = (\n",
        "    datos_relevantes['Hallazgo'].fillna('') + ' ' +\n",
        "    datos_relevantes['Plan de acción'].fillna('') + ' ' +\n",
        "    datos_relevantes['Comentarios de avance'].fillna('') + ' ' +\n",
        "    datos_relevantes['Última nota'].fillna('')\n",
        ")\n",
        "\n",
        "# Visualizamos las primeras filas del dataset reducido\n",
        "print(\"Primeras filas del dataset relevante:\")\n",
        "print(datos_relevantes.head())\n",
        "\n",
        "# Guardamos el dataset reducido para su uso en etapas futuras\n",
        "datos_relevantes.to_csv('dataset_relevante.csv', index=False)\n",
        "\n",
        "# Revisamos las dimensiones del nuevo dataset y los valores nulos\n",
        "print(f\"\\nEl dataset reducido tiene {datos_relevantes.shape[0]} filas y {datos_relevantes.shape[1]} columnas.\")\n",
        "print(\"\\nConteo de valores nulos en el dataset reducido:\")\n",
        "print(datos_relevantes.isnull().sum())\n"
      ],
      "metadata": {
        "colab": {
          "base_uri": "https://localhost:8080/"
        },
        "id": "XfPJPgtEFLBn",
        "outputId": "ea1d18fd-704d-4a59-b470-9f8c07201723"
      },
      "execution_count": 13,
      "outputs": [
        {
          "output_type": "stream",
          "name": "stdout",
          "text": [
            "Primeras filas del dataset relevante:\n",
            "                                            Hallazgo  \\\n",
            "0  Necesidad de formalizar la prestación de servi...   \n",
            "1  Necesidad de establecer controles para identif...   \n",
            "2  Establecer un control que permita la designaci...   \n",
            "3  No es posible asegurar que se realicen capacit...   \n",
            "4  Necesidad Formalizar el control de verificació...   \n",
            "\n",
            "                                      Plan de acción  \\\n",
            "0  Se considera adecuada la recomendación, ya que...   \n",
            "1  En cada ocasión en que el Directorio adopte ac...   \n",
            "2  ID 214: Se otorga plazo de 30 días para defini...   \n",
            "3  ID 215: Se otorga plazo de 30 días para defini...   \n",
            "4  ID 216: Se otorga plazo de 30 días para defini...   \n",
            "\n",
            "                               Comentarios de avance Última nota  \\\n",
            "0  Según los compromisos adquiridos en el Cumplim...         NaN   \n",
            "1  El plan de acción requiere ser verificado en c...         NaN   \n",
            "2  11-04-2024  Se adjunta evidencia asociado a la...         NaN   \n",
            "3  11-04-2024 Se adjunta evidencia asociado a las...         NaN   \n",
            "4  11-04-2024 Se adjunta evidencia asociado a las...         NaN   \n",
            "\n",
            "                                   Texto_Concatenado  \n",
            "0  Necesidad de formalizar la prestación de servi...  \n",
            "1  Necesidad de establecer controles para identif...  \n",
            "2  Establecer un control que permita la designaci...  \n",
            "3  No es posible asegurar que se realicen capacit...  \n",
            "4  Necesidad Formalizar el control de verificació...  \n",
            "\n",
            "El dataset reducido tiene 300 filas y 5 columnas.\n",
            "\n",
            "Conteo de valores nulos en el dataset reducido:\n",
            "Hallazgo                   0\n",
            "Plan de acción             0\n",
            "Comentarios de avance    112\n",
            "Última nota              256\n",
            "Texto_Concatenado          0\n",
            "dtype: int64\n"
          ]
        }
      ]
    },
    {
      "cell_type": "markdown",
      "source": [
        "# **Análisis Exploratorio**"
      ],
      "metadata": {
        "id": "xyjs1qjza7Rf"
      }
    },
    {
      "cell_type": "markdown",
      "source": [
        "**Análisis de la Longitud de las Oraciones**"
      ],
      "metadata": {
        "id": "wLFe1k_UbgVx"
      }
    },
    {
      "cell_type": "code",
      "source": [
        "# Calculamos la cantidad de palabras en cada texto concatenado\n",
        "datos_relevantes['Longitud_Oracion'] = datos_relevantes['Texto_Concatenado'].apply(lambda x: len(x.split()))\n",
        "\n",
        "# Visualizamos las primeras filas con la nueva columna de longitud\n",
        "print(\"Primeras filas con la longitud de las oraciones:\")\n",
        "print(datos_relevantes[['Texto_Concatenado', 'Longitud_Oracion']].head())\n",
        "\n",
        "# Estadísticas descriptivas de la longitud de las oraciones\n",
        "print(\"\\nEstadísticas descriptivas de la longitud de las oraciones:\")\n",
        "print(datos_relevantes['Longitud_Oracion'].describe())\n",
        "\n",
        "# Visualización de la distribución de la longitud de las oraciones\n",
        "import matplotlib.pyplot as plt\n",
        "import seaborn as sns\n",
        "\n",
        "plt.figure(figsize=(10, 6))\n",
        "sns.histplot(datos_relevantes['Longitud_Oracion'], bins=20, kde=True, color='blue')\n",
        "plt.title(\"Distribución de la Longitud de las Oraciones\")\n",
        "plt.xlabel(\"Cantidad de Palabras\")\n",
        "plt.ylabel(\"Frecuencia\")\n",
        "plt.show()"
      ],
      "metadata": {
        "id": "O1lqMImVbt1w",
        "colab": {
          "base_uri": "https://localhost:8080/",
          "height": 883
        },
        "outputId": "cd8ccc3c-d332-4c6c-b0e6-5d0958446715"
      },
      "execution_count": 14,
      "outputs": [
        {
          "output_type": "stream",
          "name": "stdout",
          "text": [
            "Primeras filas con la longitud de las oraciones:\n",
            "                                   Texto_Concatenado  Longitud_Oracion\n",
            "0  Necesidad de formalizar la prestación de servi...               156\n",
            "1  Necesidad de establecer controles para identif...               108\n",
            "2  Establecer un control que permita la designaci...               241\n",
            "3  No es posible asegurar que se realicen capacit...               263\n",
            "4  Necesidad Formalizar el control de verificació...               245\n",
            "\n",
            "Estadísticas descriptivas de la longitud de las oraciones:\n",
            "count    300.000000\n",
            "mean     138.160000\n",
            "std       79.436357\n",
            "min       20.000000\n",
            "25%       87.750000\n",
            "50%      121.000000\n",
            "75%      169.000000\n",
            "max      507.000000\n",
            "Name: Longitud_Oracion, dtype: float64\n"
          ]
        },
        {
          "output_type": "display_data",
          "data": {
            "text/plain": [
              "<Figure size 1000x600 with 1 Axes>"
            ],
            "image/png": "[encoded data removed]"
          },
          "metadata": {}
        }
      ]
    },
    {
      "cell_type": "markdown",
      "source": [
        "Conclusiones del Análisis de la Longitud de las Oraciones\n",
        "\n",
        "Con base en el gráfico y las estadísticas descriptivas proporcionadas:\n",
        "\n",
        "Distribución Sesgada a la Izquierda (Sesgo Positivo):\n",
        "\n",
        "La mayoría de los textos tienen una longitud de entre 50 y 150 palabras, lo que sugiere que los hallazgos suelen ser concisos y directos.\n",
        "Existen algunos textos más extensos (entre 400 y 500 palabras), pero son casos atípicos y podrían requerir una revisión manual para entender si contienen demasiada información o si podrían dividirse.\n",
        "\n",
        "Promedio y Mediana:\n",
        "Promedio (mean): 79 palabras.\n",
        "Mediana: 70 palabras.\n",
        "Estos valores indican que la distribución está concentrada alrededor de textos de entre 70 y 80 palabras. Esto sugiere cierta consistencia en el formato de los hallazgos.\n",
        "\n",
        "Variabilidad (Rango y Desviación Estándar):\n",
        "La desviación estándar de 70.46 indica que la longitud de los textos tiene una dispersión moderada. Sin embargo, el rango amplio (máximo de 500 palabras) muestra que hay algunos textos fuera de lo común.\n",
        "El rango intercuartílico (IQR), entre 37 y 108 palabras (Q1 a Q3), confirma que la mayoría de los textos se encuentran en ese intervalo.\n",
        "Outliers o Casos Extremos:\n",
        "\n",
        "Se identifican textos con más de 300 palabras como outliers o registros atípicos. Analizamos estos casos y es correcto tomarlos, ya que si bien tienen mayor detalle, forma parte de la auditoría y perfil del auditor al redactar su hallazgo en la paltaforma."
      ],
      "metadata": {
        "id": "vZRi6gj2G34l"
      }
    },
    {
      "cell_type": "markdown",
      "source": [
        "**Análisis de la Frecuencia de Palabras**"
      ],
      "metadata": {
        "id": "fn8NOZ6CbmhS"
      }
    },
    {
      "cell_type": "code",
      "source": [
        "# Definimos una función para eliminar caracteres especiales (incluyendo guiones)\n",
        "def limpiar_texto(texto):\n",
        "    # 1. Convertimos a minúsculas\n",
        "    texto = texto.lower()\n",
        "\n",
        "    # 2. Eliminamos caracteres especiales y dígitos (dejamos solo letras y espacios)\n",
        "    texto = re.sub(r'[^a-záéíóúñü\\s]', '', texto)\n",
        "\n",
        "    # 3. Dividimos el texto en palabras individuales (tokenización)\n",
        "    tokens = texto.split()\n",
        "\n",
        "    return tokens\n",
        "\n",
        "# Aplicamos la función de limpieza y tokenización a todos los textos concatenados\n",
        "palabras = []\n",
        "for texto in datos_relevantes['Texto_Concatenado']:\n",
        "    palabras.extend(limpiar_texto(texto))\n",
        "\n",
        "# ======== ELIMINACIÓN DE STOPWORDS ========\n",
        "stop_words = set(stopwords.words('spanish'))\n",
        "\n",
        "# Filtramos las stopwords del conjunto de palabras\n",
        "palabras_filtradas = [palabra for palabra in palabras if palabra not in stop_words]\n",
        "\n",
        "# ======== CÁLCULO DE FRECUENCIA ========\n",
        "conteo_palabras = Counter(palabras_filtradas).most_common(20)\n",
        "\n",
        "# Convertimos el conteo a un DataFrame para facilitar la visualización\n",
        "df_palabras = pd.DataFrame(conteo_palabras, columns=['Palabra', 'Frecuencia'])\n",
        "\n",
        "# ======== VISUALIZACIÓN ========\n",
        "plt.figure(figsize=(12, 6))\n",
        "sns.barplot(data=df_palabras, x='Frecuencia', y='Palabra', palette='Blues_d')\n",
        "plt.title(\"Palabras Más Frecuentes en los Hallazgos (Limpio)\")\n",
        "plt.xlabel(\"Frecuencia\")\n",
        "plt.ylabel(\"Palabra\")\n",
        "plt.show()"
      ],
      "metadata": {
        "id": "F1MaztRFbtcR",
        "colab": {
          "base_uri": "https://localhost:8080/",
          "height": 657
        },
        "outputId": "431e7d85-e7ef-4438-81c1-d9273dfcd2b7"
      },
      "execution_count": 18,
      "outputs": [
        {
          "output_type": "stream",
          "name": "stderr",
          "text": [
            "<ipython-input-18-bf4fea4581c1>:33: FutureWarning: \n",
            "\n",
            "Passing `palette` without assigning `hue` is deprecated and will be removed in v0.14.0. Assign the `y` variable to `hue` and set `legend=False` for the same effect.\n",
            "\n",
            "  sns.barplot(data=df_palabras, x='Frecuencia', y='Palabra', palette='Blues_d')\n"
          ]
        },
        {
          "output_type": "display_data",
          "data": {
            "text/plain": [
              "<Figure size 1200x600 with 1 Axes>"
            ],
            "image/png": "[encoded data removed]"
          },
          "metadata": {}
        }
      ]
    },
    {
      "cell_type": "markdown",
      "source": [
        "A partir del gráfico de palabras más frecuentes en los hallazgos, podemos extraer las siguientes conclusiones:\n",
        "\n",
        "Temas Recurrentes:\n",
        "\n",
        "Las palabras más frecuentes, como \"necesidad\", \"plan\", \"control\" y \"proceso\", sugieren un enfoque en la implementación de controles y gestión de procesos.\n",
        "Términos como \"implementación\", \"verificar\" y \"asegurar\" indican una preocupación por la ejecución efectiva de acciones.\n",
        "\n",
        "Enfoque en la Gestión:\n",
        "Palabras como \"bienes\", \"gestión\" y \"conservación\" sugieren que los hallazgos están relacionados con mantener y controlar activos físicos, probablemente enfocados en procesos operativos o auditorías de inventario.\n",
        "\n",
        "Importancia de la Trazabilidad y Responsabilidad:\n",
        "La presencia de palabras como \"responsable\" refleja la necesidad de identificar y asignar responsabilidades claras en los procesos.\n",
        "\n",
        "Implicación de Mejora Continua:\n",
        "Términos como \"realizar\", \"mantener\" e \"implementar\" sugieren que los hallazgos están orientados hacia la mejora continua y la implementación de controles.\n",
        "\n"
      ],
      "metadata": {
        "id": "mu6h-VEwIskd"
      }
    },
    {
      "cell_type": "markdown",
      "source": [
        "**Análisis de las Partes del Discurso (POS)**"
      ],
      "metadata": {
        "id": "nx3h1AVKbmYv"
      }
    },
    {
      "cell_type": "code",
      "source": [
        "import spacy\n",
        "\n",
        "# Cargamos el modelo en español de spaCy\n",
        "nlp = spacy.load('es_core_news_md')\n",
        "\n",
        "# Definimos una función para extraer las partes del discurso (POS) de cada texto\n",
        "def analizar_pos(texto):\n",
        "    doc = nlp(texto)  # Procesamos el texto con spaCy\n",
        "    pos_tags = [(token.text, token.pos_) for token in doc]  # Obtenemos las etiquetas POS\n",
        "    return pos_tags\n",
        "\n",
        "# Aplicamos la función POS a cada texto concatenado limpio\n",
        "datos_relevantes['POS'] = datos_relevantes['Texto_Concatenado'].apply(lambda x: analizar_pos(x))\n",
        "\n",
        "# Mostramos las primeras filas del dataset con la columna POS\n",
        "print(\"Ejemplo de Análisis POS:\")\n",
        "print(datos_relevantes[['Texto_Concatenado', 'POS']].head())\n",
        "\n",
        "# ======== ANÁLISIS DE FRECUENCIA DE ETIQUETAS POS ========\n",
        "\n",
        "# Extraemos todas las etiquetas POS del dataset\n",
        "etiquetas_pos = [etiqueta for lista in datos_relevantes['POS'] for _, etiqueta in lista]\n",
        "\n",
        "# Contamos las etiquetas más frecuentes\n",
        "conteo_pos = Counter(etiquetas_pos).most_common(10)\n",
        "\n",
        "# Convertimos el conteo a un DataFrame para graficar\n",
        "df_pos = pd.DataFrame(conteo_pos, columns=['Etiqueta', 'Frecuencia'])\n",
        "\n",
        "# Visualizamos las etiquetas POS más frecuentes\n",
        "plt.figure(figsize=(10, 6))\n",
        "sns.barplot(data=df_pos, x='Frecuencia', y='Etiqueta', palette='Blues_d')\n",
        "plt.title(\"Etiquetas POS Más Frecuentes en los Hallazgos\")\n",
        "plt.xlabel(\"Frecuencia\")\n",
        "plt.ylabel(\"Etiqueta POS\")\n",
        "plt.show()\n"
      ],
      "metadata": {
        "id": "W7XGF7-1bHYe",
        "colab": {
          "base_uri": "https://localhost:8080/",
          "height": 900
        },
        "outputId": "fa07f695-0cd8-4f57-a040-20528e84322f"
      },
      "execution_count": 19,
      "outputs": [
        {
          "output_type": "stream",
          "name": "stdout",
          "text": [
            "Ejemplo de Análisis POS:\n",
            "                                   Texto_Concatenado  \\\n",
            "0  Necesidad de formalizar la prestación de servi...   \n",
            "1  Necesidad de establecer controles para identif...   \n",
            "2  Establecer un control que permita la designaci...   \n",
            "3  No es posible asegurar que se realicen capacit...   \n",
            "4  Necesidad Formalizar el control de verificació...   \n",
            "\n",
            "                                                 POS  \n",
            "0  [(Necesidad, NOUN), (de, ADP), (formalizar, VE...  \n",
            "1  [(Necesidad, NOUN), (de, ADP), (establecer, VE...  \n",
            "2  [(Establecer, VERB), (un, DET), (control, NOUN...  \n",
            "3  [(No, ADV), (es, AUX), (posible, ADJ), (asegur...  \n",
            "4  [(Necesidad, PROPN), (Formalizar, VERB), (el, ...  \n"
          ]
        },
        {
          "output_type": "stream",
          "name": "stderr",
          "text": [
            "<ipython-input-19-4d26947c8252>:32: FutureWarning: \n",
            "\n",
            "Passing `palette` without assigning `hue` is deprecated and will be removed in v0.14.0. Assign the `y` variable to `hue` and set `legend=False` for the same effect.\n",
            "\n",
            "  sns.barplot(data=df_pos, x='Frecuencia', y='Etiqueta', palette='Blues_d')\n"
          ]
        },
        {
          "output_type": "display_data",
          "data": {
            "text/plain": [
              "<Figure size 1000x600 with 1 Axes>"
            ],
            "image/png": "[encoded data removed]"
          },
          "metadata": {}
        }
      ]
    },
    {
      "cell_type": "markdown",
      "source": [
        "Posibles Implicaciones:\n",
        "Sustantivos y Verbos como Foco Principal:\n",
        "El enfoque en nombres y acciones es coherente con un proyecto que busca evaluar y gestionar riesgos, describiendo qué se encuentra y qué se recomienda hacer.\n",
        "\n",
        "Relaciones Claras entre Conceptos:\n",
        "La alta presencia de preposiciones y determinantes confirma que los textos están orientados a establecer relaciones claras y específicas entre los elementos de los hallazgos."
      ],
      "metadata": {
        "id": "G8Jmi9toLW2D"
      }
    },
    {
      "cell_type": "markdown",
      "source": [
        "**Análisis de la Distribución de Longitud de Palabras**"
      ],
      "metadata": {
        "id": "rZ5VrhgGB4uN"
      }
    },
    {
      "cell_type": "code",
      "source": [],
      "metadata": {
        "id": "9mtK8HLVB5KW"
      },
      "execution_count": null,
      "outputs": []
    },
    {
      "cell_type": "markdown",
      "source": [
        "**Distribución de la Frecuencia de Palabras Únicas**"
      ],
      "metadata": {
        "id": "HLc-XdqtB5bl"
      }
    },
    {
      "cell_type": "code",
      "source": [],
      "metadata": {
        "id": "cpcmW56sB5_N"
      },
      "execution_count": null,
      "outputs": []
    },
    {
      "cell_type": "markdown",
      "source": [
        "**Análisis de N-gramas**"
      ],
      "metadata": {
        "id": "KbAmXRBzB6XN"
      }
    },
    {
      "cell_type": "code",
      "source": [],
      "metadata": {
        "id": "FItAZu_gB61l"
      },
      "execution_count": null,
      "outputs": []
    },
    {
      "cell_type": "markdown",
      "source": [
        "**Análisis de la Diversidad Léxica**"
      ],
      "metadata": {
        "id": "5JyEzM9MCTfL"
      }
    },
    {
      "cell_type": "code",
      "source": [],
      "metadata": {
        "id": "XekuB-U3CT75"
      },
      "execution_count": null,
      "outputs": []
    },
    {
      "cell_type": "markdown",
      "source": [
        "**Visualización de Palabras con Word Cloud**"
      ],
      "metadata": {
        "id": "wObRulzCCWmx"
      }
    },
    {
      "cell_type": "code",
      "source": [],
      "metadata": {
        "id": "KpIrW7MBCXIF"
      },
      "execution_count": null,
      "outputs": []
    },
    {
      "cell_type": "markdown",
      "source": [
        "**Conclusiones del Analisis exploratorio**"
      ],
      "metadata": {
        "id": "7y65fz63emSb"
      }
    },
    {
      "cell_type": "markdown",
      "source": [
        "# **Preprocesamiento del Texto**"
      ],
      "metadata": {
        "id": "WKhJae0nfQLH"
      }
    },
    {
      "cell_type": "markdown",
      "source": [
        "*Tokenización:*\n",
        "\n",
        "Tokenizar el texto en palabras, frases o párrafos según sea necesario.\n",
        "\n",
        "*Limpieza del Texto:*\n",
        "\n",
        "Convertir a minusculas, eliminar caracteres no deseados, stopwords, lematización, y stemming.\n",
        "\n",
        "*Análisis Léxico y Morfológico:*\n",
        "\n",
        "Identificación de partes del discurso (POS tagging) y análisis morfológico."
      ],
      "metadata": {
        "id": "DpQOFMv1DmSt"
      }
    },
    {
      "cell_type": "code",
      "source": [],
      "metadata": {
        "id": "PXrKwJjgDmu9"
      },
      "execution_count": null,
      "outputs": []
    },
    {
      "cell_type": "markdown",
      "source": [
        "**Análisis Sintáctico**"
      ],
      "metadata": {
        "id": "nGHEVFW6DnBN"
      }
    },
    {
      "cell_type": "markdown",
      "source": [
        "*Parsing:*\n",
        "\n",
        "Construir árboles sintácticos para las oraciones en el corpus.\n",
        "\n",
        "*Dependencia Sintáctica:*\n",
        "\n",
        "Análisis de dependencias para entender las relaciones gramaticales entre palabras."
      ],
      "metadata": {
        "id": "Jp0SBjsXEPko"
      }
    },
    {
      "cell_type": "code",
      "source": [],
      "metadata": {
        "id": "AmqHV1iRDniV"
      },
      "execution_count": null,
      "outputs": []
    },
    {
      "cell_type": "markdown",
      "source": [
        "**Análisis Semántico**"
      ],
      "metadata": {
        "id": "SkbZ_PoBE1Zb"
      }
    },
    {
      "cell_type": "markdown",
      "source": [
        "*Coreferencia:*\n",
        "\n",
        "Resolver las referencias cruzadas en el texto para entender a qué se refieren los pronombres y otras expresiones.\n",
        "\n",
        "*Análisis de Coherencia:*\n",
        "\n",
        "Evaluar la coherencia y cohesión del discurso."
      ],
      "metadata": {
        "id": "HL9J4ph5E_xU"
      }
    },
    {
      "cell_type": "code",
      "source": [],
      "metadata": {
        "id": "Inh_Xw-2FrpB"
      },
      "execution_count": null,
      "outputs": []
    },
    {
      "cell_type": "markdown",
      "source": [
        "**Análisis Pragmático**"
      ],
      "metadata": {
        "id": "X-WGsBlvFp1A"
      }
    },
    {
      "cell_type": "markdown",
      "source": [
        "*Análisis de Sentimientos:*\n",
        "\n",
        "Determinar el tono y las emociones expresadas en el texto.\n",
        "\n",
        "*Detección de Intenciones:*\n",
        "\n",
        "Identificar las intenciones detrás de las expresiones del texto."
      ],
      "metadata": {
        "id": "Truj09sYFf65"
      }
    },
    {
      "cell_type": "code",
      "source": [],
      "metadata": {
        "id": "VumFxByfFfX7"
      },
      "execution_count": null,
      "outputs": []
    },
    {
      "cell_type": "markdown",
      "source": [
        "**Codificación de texto a vectores**"
      ],
      "metadata": {
        "id": "V1E3hbAHf7ln"
      }
    },
    {
      "cell_type": "markdown",
      "source": [
        "Bag of word\n",
        "\n",
        "Tf-IDF\n",
        "\n",
        "Word Embendings\n"
      ],
      "metadata": {
        "id": "xZB_fxwEK0Vn"
      }
    },
    {
      "cell_type": "code",
      "source": [],
      "metadata": {
        "id": "Un_VYM2sfOdX"
      },
      "execution_count": null,
      "outputs": []
    },
    {
      "cell_type": "markdown",
      "source": [
        "#**Feature Selection**"
      ],
      "metadata": {
        "id": "qsJAf6eVgVsh"
      }
    },
    {
      "cell_type": "markdown",
      "source": [
        "**Selección de variable objetivo y variables independientes**"
      ],
      "metadata": {
        "id": "sQ3rpcC6gHu_"
      }
    },
    {
      "cell_type": "markdown",
      "source": [
        "**Clasificación de Texto**\n",
        "\n",
        "X (Entrada): Texto del documento (puede ser una oración, párrafo, o artículo completo).\n",
        "\n",
        "Y (Salida): Etiqueta de la categoría del texto (por ejemplo, \"positivo\" o \"negativo\" para análisis de sentimientos, o categorías como \"deportes\", \"política\", \"tecnología\" para clasificación de noticias).\n",
        "\n",
        "**Análisis de Sentimientos**\n",
        "\n",
        "X (Entrada): Texto del documento.\n",
        "\n",
        "Y (Salida): Sentimiento asociado (por ejemplo, \"positivo\", \"negativo\" o \"neutral\").\n",
        "\n",
        "**Reconocimiento de Entidades Nombradas (NER)**\n",
        "\n",
        "X (Entrada): Texto del documento.\n",
        "\n",
        "Y (Salida): Entidades reconocidas y sus categorías (por ejemplo, \"PERSONA\", \"ORGANIZACIÓN\", \"LUGAR\").\n",
        "\n",
        "**Traducción Automática**\n",
        "\n",
        "X (Entrada): Texto en el idioma de origen.\n",
        "\n",
        "Y (Salida): Texto traducido al idioma de destino.\n",
        "\n",
        "**Resumen de Texto**\n",
        "\n",
        "X (Entrada): Texto completo del documento.\n",
        "\n",
        "Y (Salida): Resumen del documento.\n",
        "\n",
        "**Generación de Texto**\n",
        "\n",
        "X (Entrada): Prompt o inicio de una frase o párrafo.\n",
        "\n",
        "Y (Salida): Texto generado continuando el prompt.\n",
        "\n",
        "**Modelos de Lenguaje (Language Modeling)**\n",
        "\n",
        "X (Entrada): Una secuencia de palabras o caracteres.\n",
        "\n",
        "Y (Salida): La siguiente palabra o carácter en la secuencia."
      ],
      "metadata": {
        "id": "5wbpIxX7_lJF"
      }
    },
    {
      "cell_type": "code",
      "source": [],
      "metadata": {
        "id": "25X23itFhSXR"
      },
      "execution_count": null,
      "outputs": []
    },
    {
      "cell_type": "markdown",
      "source": [
        "# **Modelos**"
      ],
      "metadata": {
        "id": "EuGuCd8JhWDf"
      }
    },
    {
      "cell_type": "markdown",
      "source": [
        "**Librerias necesarias para implementar los modelos**"
      ],
      "metadata": {
        "id": "TaaWLjOEmLMw"
      }
    },
    {
      "cell_type": "code",
      "source": [],
      "metadata": {
        "id": "aR6M78zonETX"
      },
      "execution_count": null,
      "outputs": []
    },
    {
      "cell_type": "markdown",
      "source": [
        "**División de datos en conjuntos de entrenamiento y prueba**"
      ],
      "metadata": {
        "id": "1k_6rL1Unv_Y"
      }
    },
    {
      "cell_type": "code",
      "source": [],
      "metadata": {
        "id": "vHo3cfZ5nwnB"
      },
      "execution_count": null,
      "outputs": []
    },
    {
      "cell_type": "markdown",
      "source": [
        "**Predicción con conjunto de prueba**"
      ],
      "metadata": {
        "id": "61vZign6qddW"
      }
    },
    {
      "cell_type": "code",
      "source": [],
      "metadata": {
        "id": "jFrlWDT5qc-I"
      },
      "execution_count": null,
      "outputs": []
    },
    {
      "cell_type": "markdown",
      "source": [
        "**Evaluación del rendimiento del modelo**"
      ],
      "metadata": {
        "id": "sDTCzTn_ihYe"
      }
    },
    {
      "cell_type": "code",
      "source": [],
      "metadata": {
        "id": "XWlaQbRanGHn"
      },
      "execution_count": null,
      "outputs": []
    },
    {
      "cell_type": "markdown",
      "source": [
        "**Conclusión sobre el modelado y las metricas**"
      ],
      "metadata": {
        "id": "cdcyJQcmqoGn"
      }
    },
    {
      "cell_type": "markdown",
      "source": [
        "#**Optimización de modelos**"
      ],
      "metadata": {
        "id": "s4oh4altclpl"
      }
    },
    {
      "cell_type": "code",
      "source": [],
      "metadata": {
        "id": "MMAxrfskckhu"
      },
      "execution_count": null,
      "outputs": []
    },
    {
      "cell_type": "markdown",
      "source": [
        "**Conclusión sobre la optimización**"
      ],
      "metadata": {
        "id": "nVeWizfMc3R9"
      }
    },
    {
      "cell_type": "markdown",
      "source": [
        "# **Conclusiones Finales**"
      ],
      "metadata": {
        "id": "ivjWtJ6bhZio"
      }
    },
    {
      "cell_type": "markdown",
      "source": [],
      "metadata": {
        "id": "J_lHwM-WiiGP"
      }
    }
  ]
}